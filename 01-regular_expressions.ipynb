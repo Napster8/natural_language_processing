{
 "cells": [
  {
   "cell_type": "markdown",
   "id": "e6ff70fb-e4f6-49e3-a7b6-b0b361518a45",
   "metadata": {},
   "source": [
    "## Regular Expressions"
   ]
  },
  {
   "cell_type": "code",
   "execution_count": 2,
   "id": "f5d6cfc6-da20-4ff2-89ec-e5079120848b",
   "metadata": {},
   "outputs": [
    {
     "data": {
      "text/plain": [
       "['abc', 'abc']"
      ]
     },
     "execution_count": 2,
     "metadata": {},
     "output_type": "execute_result"
    }
   ],
   "source": [
    "import re\n",
    "\n",
    "# Method 1: Finding patterns here we are trying to find patterns in a string\n",
    "re.findall('abc', 'kasfaiabcasdfaabc')\n"
   ]
  },
  {
   "cell_type": "code",
   "execution_count": 6,
   "id": "2ddea08b-324e-43cd-aba1-7c1f8febb681",
   "metadata": {},
   "outputs": [
    {
     "data": {
      "text/plain": [
       "['abc', 'abc']"
      ]
     },
     "execution_count": 6,
     "metadata": {},
     "output_type": "execute_result"
    }
   ],
   "source": [
    "# Method 2\n",
    "string_1 = 'kasfaiabcasdfaabc'\n",
    "re.findall('abc', string_1)"
   ]
  },
  {
   "cell_type": "markdown",
   "id": "9fddd63f-fc6f-43f1-b42a-47de5471478c",
   "metadata": {},
   "source": [
    "### Meta Characters\n",
    "Special characters can be found using these.\n",
    "1. `.`\n",
    "2. `^`\n",
    "3. `$`\n",
    "4. `*`\n",
    "5. `+`\n",
    "6. `?`\n",
    "7. `{` and `}`\n",
    "8. `[` and `]`\n",
    "\n",
    "---\n",
    "\n"
   ]
  },
  {
   "cell_type": "markdown",
   "id": "3307921b-603e-4f7d-8533-88a62082976f",
   "metadata": {},
   "source": [
    "* `[` and `]` can be used to specify a class or range of characters can be indicated by giving two characters and seperating them by a '-'like `[a-f]`."
   ]
  },
  {
   "cell_type": "code",
   "execution_count": 12,
   "id": "81df0f4f-a7aa-4bd5-8d65-867e874e5d43",
   "metadata": {},
   "outputs": [
    {
     "data": {
      "text/plain": [
       "['a', 'a', 'a', 'a', 'a', 'a']"
      ]
     },
     "execution_count": 12,
     "metadata": {},
     "output_type": "execute_result"
    }
   ],
   "source": [
    "string_1 = 'kasfaiabcasdfaabc'\n",
    "\n",
    "re.findall('[a]', string_1)"
   ]
  },
  {
   "cell_type": "code",
   "execution_count": 13,
   "id": "2f14f6eb-d40b-4b8f-9dfa-6bf6201ccc87",
   "metadata": {},
   "outputs": [
    {
     "data": {
      "text/plain": [
       "['a', 'a', 'a', 'b', 'a', 'a', 'a', 'b']"
      ]
     },
     "execution_count": 13,
     "metadata": {},
     "output_type": "execute_result"
    }
   ],
   "source": [
    "re.findall('[ab]', string_1)"
   ]
  },
  {
   "cell_type": "markdown",
   "id": "ab95d8c6-eb36-4c87-95fb-72b91d1269b3",
   "metadata": {},
   "source": [
    "Findall: finds all alphabets present and creates a list of individual alphabets"
   ]
  },
  {
   "cell_type": "code",
   "execution_count": 17,
   "id": "fd892cda-d8b4-46cf-8a9c-4a8ecf876b70",
   "metadata": {},
   "outputs": [
    {
     "data": {
      "text/plain": [
       "['k', 'a', 'f', 'a', 'i', 'a', 'b', 'c', 'a', 'd', 'f', 'a', 'a', 'b', 'c']"
      ]
     },
     "execution_count": 17,
     "metadata": {},
     "output_type": "execute_result"
    }
   ],
   "source": [
    "# Method 1:\n",
    "\n",
    "re.findall('[abcdefghijk]', string_1)"
   ]
  },
  {
   "cell_type": "code",
   "execution_count": 18,
   "id": "3282bff5-ac28-4879-b8aa-b5c9478a2c28",
   "metadata": {},
   "outputs": [
    {
     "data": {
      "text/plain": [
       "['k', 'a', 'f', 'a', 'i', 'a', 'b', 'c', 'a', 'd', 'f', 'a', 'a', 'b', 'c']"
      ]
     },
     "execution_count": 18,
     "metadata": {},
     "output_type": "execute_result"
    }
   ],
   "source": [
    "# Method 2:\n",
    "\n",
    "re.findall('[a-k]', string_1)"
   ]
  },
  {
   "cell_type": "markdown",
   "id": "8618bf7d-0d80-4b1a-b973-095c19ee2965",
   "metadata": {},
   "source": [
    "#### Exercise 1.0:  Square Brackets"
   ]
  },
  {
   "cell_type": "code",
   "execution_count": 24,
   "id": "4e462f76-893d-45fd-bc38-6f01f1605c2d",
   "metadata": {},
   "outputs": [
    {
     "data": {
      "text/plain": [
       "9"
      ]
     },
     "execution_count": 24,
     "metadata": {},
     "output_type": "execute_result"
    }
   ],
   "source": [
    "# Counting the number of digits in a given string using `[` & `]`\n",
    "\n",
    "string_1 = '12319ab4621acdz+*!'\n",
    "\n",
    "list_1 = re.findall('[0-9]', string_1)\n",
    "\n",
    "len(list_1)"
   ]
  },
  {
   "cell_type": "code",
   "execution_count": 26,
   "id": "ead83456-d7ba-4acc-a91b-9dd6ccadcacc",
   "metadata": {},
   "outputs": [
    {
     "data": {
      "text/plain": [
       "['4315', '2134']"
      ]
     },
     "execution_count": 26,
     "metadata": {},
     "output_type": "execute_result"
    }
   ],
   "source": [
    "#### Exercise 2: Check if a string contains consectuive 4 digits and print it\n",
    "\n",
    "string_1 = '1ab431529cdf2134*'\n",
    "\n",
    "re.findall('[0-9][0-9][0-9][0-9]', string_1)"
   ]
  },
  {
   "cell_type": "markdown",
   "id": "8596e48f-322f-49eb-bc73-412c12e2f4b5",
   "metadata": {},
   "source": [
    "---\n",
    "* `^` Set Complement"
   ]
  },
  {
   "cell_type": "markdown",
   "id": "0786345e-511e-431e-b39b-74c557064750",
   "metadata": {},
   "source": [
    "#### Set Complement `^`\n",
    "\n",
    "List the documents that does not contain any digits"
   ]
  },
  {
   "cell_type": "code",
   "execution_count": 45,
   "id": "378022a0-f0f0-401d-9cc8-a1015175cd0e",
   "metadata": {},
   "outputs": [
    {
     "name": "stdout",
     "output_type": "stream",
     "text": [
      "document_one\n",
      "document_two\n",
      "document_three\n"
     ]
    }
   ],
   "source": [
    "documents = ['document_1',\n",
    "            'document2',\n",
    "            'document_one',\n",
    "            'document_two',\n",
    "            'document_three']\n",
    "\n",
    "# Method 1: building character class\n",
    "regExp = '[0-9]'\n",
    "\n",
    "for doc in documents:\n",
    "    list_1 = re.findall(regExp, doc)\n",
    "    if len(list_1) > 0:\n",
    "        pass;\n",
    "    else:\n",
    "        print(doc)"
   ]
  },
  {
   "cell_type": "code",
   "execution_count": 48,
   "id": "41c159a2-7eae-4154-bbb4-e795f14ca1bc",
   "metadata": {},
   "outputs": [
    {
     "name": "stdout",
     "output_type": "stream",
     "text": [
      "document_one\n",
      "document_two\n",
      "document_three\n"
     ]
    }
   ],
   "source": [
    "documents = ['document_1',\n",
    "            'document_2',\n",
    "            'document_one',\n",
    "            'document_two',\n",
    "            'document_three']\n",
    "\n",
    "\n",
    "# Method 2: Using `^` complement. \n",
    "# 1. To be used after the square bracket.\n",
    "# 2. It has to be in the beginning of the character class\n",
    "\n",
    "regExp = '[^0-9]'\n",
    "\n",
    "for doc in documents:\n",
    "    list_1 = re.findall(regExp, doc)\n",
    "    if len(list_1) == len(doc):\n",
    "        print(doc)"
   ]
  },
  {
   "cell_type": "markdown",
   "id": "32961025-eafd-4de4-beea-e28a2e220843",
   "metadata": {},
   "source": [
    "#### Exclude alphabets\n",
    "\n",
    "Find all documents that does not contain alphabets"
   ]
  },
  {
   "cell_type": "code",
   "execution_count": 7,
   "id": "c7646dc7-a8a9-4578-80bb-3ecbe286f8a6",
   "metadata": {},
   "outputs": [
    {
     "name": "stdout",
     "output_type": "stream",
     "text": [
      "1_1\n",
      "1_2\n"
     ]
    }
   ],
   "source": [
    "documents = ['1_1',\n",
    "            '1_2',\n",
    "            'document_one',\n",
    "            'document_two',\n",
    "            'document_three']\n",
    "\n",
    "# Method 2: Using `^` complement. \n",
    "# 1. To be used after the square bracket.\n",
    "# 2. It has to be in the beginning of the character class\n",
    "\n",
    "regExp = '[^a-z]'\n",
    "\n",
    "for doc in documents:\n",
    "    list_1 = re.findall(regExp, doc)\n",
    "    if len(list_1) == len(doc):\n",
    "        print(doc)"
   ]
  },
  {
   "cell_type": "code",
   "execution_count": null,
   "id": "10bdd358-c7ae-472c-8edb-c7635b91fb5d",
   "metadata": {},
   "outputs": [],
   "source": []
  },
  {
   "cell_type": "markdown",
   "id": "342d5bec-03f9-460a-b5bc-bf2279fd5422",
   "metadata": {
    "tags": []
   },
   "source": [
    "#### Building character class\n",
    "\n",
    "List the documents that does not contain any digit and any of the following characters: {:,\",{,},@,#,&}"
   ]
  },
  {
   "cell_type": "code",
   "execution_count": 8,
   "id": "c655c3ed-2af5-41ab-a3ce-77b2c7c9d2d4",
   "metadata": {},
   "outputs": [
    {
     "name": "stdout",
     "output_type": "stream",
     "text": [
      "asdkfjqoitlskdnfoqwiekhas;ioew=adgoie\n",
      "askdfl_asdkfei_asdjkfla****askeasfff\n"
     ]
    }
   ],
   "source": [
    "documents = ['asdfj;laieorkdjf;aliejr;akjdf23k4j;lajds;l',\n",
    "            'asdfjoqweitulad;ai@weutadg;lajoetiuaodkgjier',\n",
    "            'asdkfjqoitlskdnfoqwiekhas;ioew=adgoie',\n",
    "            'askdfl_asdkfei_asdjkfla****askeasfff',\n",
    "            '{{{{{asdfjowei@@##askdfoie}}}}}']\n",
    "\n",
    "# Method 1: building character class\n",
    "regExp = '[0-9:\"{}()@#&]'\n",
    "\n",
    "for doc in documents:\n",
    "    list_1 = re.findall(regExp, doc)\n",
    "    if len(list_1) > 0:\n",
    "        pass;\n",
    "    else:\n",
    "        print(doc)"
   ]
  },
  {
   "cell_type": "code",
   "execution_count": 51,
   "id": "010c0215-c264-4d8b-b847-5644da4d7cf9",
   "metadata": {},
   "outputs": [
    {
     "name": "stdout",
     "output_type": "stream",
     "text": [
      "asdkfjqoitlskdnfoqwiekhas;ioew=adgoie\n",
      "askdfl_asdkfei_asdjkfla****askeasfff\n"
     ]
    }
   ],
   "source": [
    "documents = ['asdfj;laieorkdjf;aliejr;akjdf23k4j;lajds;l',\n",
    "            'asdfjoqweitulad;ai@weutadg;lajoetiuaodkgjier',\n",
    "            'asdkfjqoitlskdnfoqwiekhas;ioew=adgoie',\n",
    "            'askdfl_asdkfei_asdjkfla****askeasfff',\n",
    "            '{{{{{asdfjowei@@##askdfoie}}}}}']\n",
    "\n",
    "\n",
    "# Method 2: Using `^` complement. \n",
    "# 1. To be used after the square bracket.\n",
    "# 2. It has to be in the beginning of the character class\n",
    "\n",
    "regExp = '[^0-9:\"{}()@#&]'\n",
    "\n",
    "for doc in documents:\n",
    "    list_1 = re.findall(regExp, doc)\n",
    "    if len(list_1) == len(doc):\n",
    "        print(doc)"
   ]
  },
  {
   "cell_type": "markdown",
   "id": "030a830c-9529-45ab-a22b-7dc0cc6deea9",
   "metadata": {},
   "source": [
    "---\n",
    "* Counting backslashes. Backslashes are used in escape sequences in python"
   ]
  },
  {
   "cell_type": "markdown",
   "id": "987be167-ef02-41e4-b9bc-47057836623e",
   "metadata": {},
   "source": [
    "#### Counting the number of Backslashes"
   ]
  },
  {
   "cell_type": "code",
   "execution_count": 10,
   "id": "ddca6040-f8c8-4d44-9e12-4ae63b186cb3",
   "metadata": {},
   "outputs": [
    {
     "name": "stdout",
     "output_type": "stream",
     "text": [
      "\\n for new line \\section and \\document and \\\\\\section \\n\n"
     ]
    }
   ],
   "source": [
    "document = r'\\n for new line \\section and \\document and \\\\\\section \\n'\n",
    "print(document)"
   ]
  },
  {
   "cell_type": "code",
   "execution_count": 11,
   "id": "3d560411-5078-4037-88ae-7931a8372ac8",
   "metadata": {},
   "outputs": [
    {
     "name": "stdout",
     "output_type": "stream",
     "text": [
      "[\\\\]\n"
     ]
    }
   ],
   "source": [
    "regExp = \"[\\\\\\]\"\n",
    "print(regExp)"
   ]
  },
  {
   "cell_type": "code",
   "execution_count": 12,
   "id": "518b4a09-f019-4b57-b609-1f0b7508c534",
   "metadata": {},
   "outputs": [
    {
     "name": "stdout",
     "output_type": "stream",
     "text": [
      "['\\\\', '\\\\', '\\\\', '\\\\', '\\\\', '\\\\', '\\\\']\n"
     ]
    },
    {
     "data": {
      "text/plain": [
       "7"
      ]
     },
     "execution_count": 12,
     "metadata": {},
     "output_type": "execute_result"
    }
   ],
   "source": [
    "# length of list\n",
    "list_1 = re.findall(regExp, document)\n",
    "print(list_1)\n",
    "len(list_1)"
   ]
  },
  {
   "cell_type": "markdown",
   "id": "4ef346fb-ae84-4b2d-9692-93eb649f5600",
   "metadata": {},
   "source": [
    "#### Counting all backslashes and brackets in a document"
   ]
  },
  {
   "cell_type": "markdown",
   "id": "718f7848-7bca-4ed9-a25b-9e51ff82a713",
   "metadata": {},
   "source": [
    "Count all backslashes and brackets in a document"
   ]
  },
  {
   "cell_type": "code",
   "execution_count": 115,
   "id": "841a5512-45b8-46fc-b332-1262e6f168bc",
   "metadata": {
    "tags": []
   },
   "outputs": [
    {
     "name": "stdout",
     "output_type": "stream",
     "text": [
      "Number of square brackets : 2\n",
      "Number of backslashes : 7\n",
      "Number of backslashes + square brackets : 9\n"
     ]
    }
   ],
   "source": [
    "document = r'\\n for new [line, ] \\section and \\document and \\\\\\section \\n'\n",
    "\n",
    "# \\[ -> searches  [\n",
    "# \\] -> searches  ]\n",
    "# \\\\\\ -> searches \\\n",
    "\n",
    "regExp1 = '[[\\[\\]]'   # searches for square brackets only\n",
    "list_1 = re.findall(regExp1, document)\n",
    "print(f'Number of square brackets : {len(list_1)}')\n",
    "\n",
    "regExp2 = '[\\\\\\]'    # searches for backslashes only\n",
    "list_1 = re.findall(regExp2, document)\n",
    "print(f'Number of backslashes : {len(list_1)}')\n",
    "\n",
    "regExp3 = '[\\[\\]\\\\\\]'  # searches for square brackets + backslashes\n",
    "list_1 = re.findall(regExp3, document)\n",
    "print(f'Number of backslashes + square brackets : {len(list_1)}')"
   ]
  },
  {
   "cell_type": "markdown",
   "id": "553b8388-ca0b-4af3-b2fd-f30f23e4d993",
   "metadata": {},
   "source": [
    "Count all `\\section` in a given document"
   ]
  },
  {
   "cell_type": "code",
   "execution_count": 120,
   "id": "10b0743d-48f9-4432-aa4c-2296f15d4ad5",
   "metadata": {},
   "outputs": [
    {
     "name": "stdout",
     "output_type": "stream",
     "text": [
      "Number of backslashes : 2\n"
     ]
    }
   ],
   "source": [
    "document = r'\\n for new [line, ] \\section and \\document and \\\\\\section \\n'\n",
    "\n",
    "# \\[ -> searches  [\n",
    "# \\] -> searches  ]\n",
    "# \\\\\\ -> searches \\\n",
    "\n",
    "regExp2 = '[\\\\\\]section'\n",
    "list_1 = re.findall(regExp2, document)\n",
    "print(f'Number of backslashes : {len(list_1)}')"
   ]
  },
  {
   "cell_type": "markdown",
   "id": "cfa1eb84-8f72-4719-b6ce-d430e63f4b08",
   "metadata": {},
   "source": [
    "#### Other Standard classes\n",
    "* `\\d` -> Matches any decimal digit. Equivalent to class `[0-9]`.\n",
    "* `\\D` -> Matches any non-digit character, equivalent to class `[^0-9]`.\n",
    "* `s` -> Matches any whitespace character, equivalent to class `[\\t\\b\\r\\f\\v]`.\n",
    "* `S` -> Matches any non-whitespace character, equivalent to class `[^\\t\\b\\r\\f\\v]`.\n",
    "* `w` -> Matches any alphanumeric character, equivalent to class `[a-zA-Z0-9_]`.\n",
    "* `W` -> Matches any non-alphanumeric character, equivalent to class `[^a-zA-Z0-9_]`."
   ]
  },
  {
   "cell_type": "markdown",
   "id": "d1876778-67ab-4d64-aa5d-9406c18d8e50",
   "metadata": {},
   "source": [
    "---\n",
    "* Count number of spaces, digits and underscores in a document."
   ]
  },
  {
   "cell_type": "code",
   "execution_count": 134,
   "id": "6a676c62-0bf5-48de-aa74-6b67eea038bc",
   "metadata": {},
   "outputs": [
    {
     "name": "stdout",
     "output_type": "stream",
     "text": [
      "Number of spaces, digits and underscores : 6\n"
     ]
    }
   ],
   "source": [
    "document = r'a 2345_'\n",
    "\n",
    "regExp2 = '[ 0-9_]'\n",
    "list_1 = re.findall(regExp2, document)\n",
    "print(f'Number of spaces, digits and underscores : {len(list_1)}')"
   ]
  },
  {
   "cell_type": "markdown",
   "id": "0485d64c-8823-4705-91f0-5a57ac4b62fa",
   "metadata": {},
   "source": [
    "* Count the number of `Yahoo` words in a phrase or string"
   ]
  },
  {
   "cell_type": "code",
   "execution_count": 249,
   "id": "c7aba1ff-2ca3-4abf-af52-0ebc839bdc8c",
   "metadata": {},
   "outputs": [
    {
     "name": "stdout",
     "output_type": "stream",
     "text": [
      "Number of Yahoo : 2\n",
      "['Yahoo', 'Yahoo']\n"
     ]
    }
   ],
   "source": [
    "document = r'YahooYahoYahuYahoooooooooYAHOO'\n",
    "\n",
    "regExp1 = 'Yahoo'\n",
    "list_1 = re.findall(regExp1, document)\n",
    "print(f'Number of Yahoo : {len(list_1)}')\n",
    "print(list_1)"
   ]
  },
  {
   "cell_type": "code",
   "execution_count": null,
   "id": "d91cd907-80a4-4e68-aaa1-4791a6717cbd",
   "metadata": {},
   "outputs": [],
   "source": [
    "document = r'YahooYahoYahuYahoooYahoooooooooYAHOO'\n",
    "# `o` Zero or more occurrences\n",
    "regExp1 = 'Yahoo*'\n",
    "list_1 = re.findall(regExp1, document)\n",
    "print(f'Number of Yahoo : {len(list_1)}')\n",
    "print(list_1)\n",
    "\n",
    "document = r'YahooYahoYahuYahoooYahoooooooooYAHOO'\n",
    "# `o` One or more occurrences\n",
    "regExp1 = 'Yahoo+'\n",
    "list_1 = re.findall(regExp1, document)\n",
    "print(f'Number of Yahoo : {len(list_1)}')\n",
    "print(list_1)\n",
    "\n",
    "document = r'YahooYahoYahuYahoooYahoooooooooYAHOO'\n",
    "# `h` Zero or one occurrences\n",
    "regExp1 = 'Yahoo+'\n",
    "list_1 = re.findall(regExp1, document)\n",
    "print(f'Number of Yahoo : {len(list_1)}')\n",
    "print(list_1)"
   ]
  },
  {
   "cell_type": "markdown",
   "id": "8eb4b7a9-2e73-43e9-99bd-c551f8bb133d",
   "metadata": {},
   "source": [
    "### Greedy Matching"
   ]
  },
  {
   "cell_type": "markdown",
   "id": "d9fdf0ad-9469-462f-9921-302b8b09d5ee",
   "metadata": {},
   "source": [
    "* Count the number of words that start with `Py` and end with `n`"
   ]
  },
  {
   "cell_type": "code",
   "execution_count": 241,
   "id": "edeaf5fa-1080-417e-bc16-a22e49cc1859",
   "metadata": {},
   "outputs": [
    {
     "name": "stdout",
     "output_type": "stream",
     "text": [
      "['Pyyython', 'Python', 'Pyxthon', 'Pyoon', 'Pymon']\n",
      "Number of patterns found : 5\n"
     ]
    }
   ],
   "source": [
    "document = r'PyyythonPythonPyxthonPyoonPymonPyiosk'\n",
    "\n",
    "# Py***anything***n\n",
    "regExp = 'Py[a-z]*n'\n",
    "list_1 = re.findall(regExp, document)\n",
    "print(list_1)\n",
    "print(f'Number of patterns found : {len(list_1)}')"
   ]
  },
  {
   "cell_type": "code",
   "execution_count": 251,
   "id": "e3f43754-601d-44c6-878c-5fcb52738636",
   "metadata": {},
   "outputs": [
    {
     "name": "stdout",
     "output_type": "stream",
     "text": [
      "['Pyyyth', 'Pyth', 'Pyxth', 'Pyo', 'Pym', 'Pyiosk']\n"
     ]
    }
   ],
   "source": [
    "document = r'PyyythonPythonPyxthonPyoonPymonPyiosk'\n",
    "\n",
    "list_1 = re.split('on', document)\n",
    "print(list_1)"
   ]
  },
  {
   "cell_type": "markdown",
   "id": "7ff4fa02-4796-4a97-89f8-789c7f5ea29e",
   "metadata": {},
   "source": [
    "### Repeated Patterns"
   ]
  },
  {
   "cell_type": "markdown",
   "id": "b559246e-6a73-4fd0-a85a-6ca7fa593405",
   "metadata": {},
   "source": [
    "* Curly brackets for repeated patterns\n",
    "* {m, n} Find repeated pattern from m to possibly n times.\n",
    "\n"
   ]
  },
  {
   "cell_type": "markdown",
   "id": "6a4dcd88-6802-44e0-a634-5d9ad5b74bd0",
   "metadata": {},
   "source": [
    "---\n",
    "* List all the substrings in a string that contain at least 2 digits and atmost 5 digits"
   ]
  },
  {
   "cell_type": "code",
   "execution_count": 268,
   "id": "a05c8ddb-aa91-4a99-891c-bafcb631e048",
   "metadata": {},
   "outputs": [
    {
     "name": "stdout",
     "output_type": "stream",
     "text": [
      "['35', '235', '12345', '56789']\n",
      "Number of patterns found : 4\n"
     ]
    }
   ],
   "source": [
    "document = ('a1sdfj;35laieor1kdjf;aliejr;akjdf235k4j;lajds;'\n",
    "            'la123456sdfjoqweitulad;ai@weutadg;lajoetiuaodkgjier'\n",
    "            'asdkfjqoitlskdnfoqwi56789ekhas;ioew=adgoie'\n",
    "            'askdfl_asdkfei_asdjkfla****askeasfff'\n",
    "            '{{{{{asdfjowei@@##askdfoie}}}}}')\n",
    "\n",
    "regExp = '\\d{2,5}'\n",
    "list_1 = re.findall(regExp, document)\n",
    "print(list_1)\n",
    "print(f'Number of patterns found : {len(list_1)}')"
   ]
  },
  {
   "cell_type": "markdown",
   "id": "08a4936f-d4e5-4d81-b974-f80fd1c7ce7c",
   "metadata": {},
   "source": [
    "## Making Pattern Objects"
   ]
  },
  {
   "cell_type": "code",
   "execution_count": 271,
   "id": "fdc7f9e7-6bd0-4d74-bca6-329e413ad341",
   "metadata": {},
   "outputs": [
    {
     "data": {
      "text/plain": [
       "['a234122B', 'Ab', 'a234b']"
      ]
     },
     "execution_count": 271,
     "metadata": {},
     "output_type": "execute_result"
    }
   ],
   "source": [
    "regExp = 'a\\d*b'\n",
    "p = re.compile(regExp, re.IGNORECASE)\n",
    "\n",
    "document = 'a234122B23456Aba234b'\n",
    "p.findall(document)"
   ]
  },
  {
   "cell_type": "markdown",
   "id": "8c184c15-9190-4fb4-b56c-ba162a18c740",
   "metadata": {},
   "source": [
    "## Match and Search"
   ]
  },
  {
   "cell_type": "markdown",
   "id": "ded75afd-b83d-4194-ba92-4d258595b4e9",
   "metadata": {},
   "source": [
    "* `match( )` - determines if RE matches at the beginning of the string.\n",
    "* `search( )` - scan through a string, looking for any location where this RE matches."
   ]
  },
  {
   "cell_type": "code",
   "execution_count": 277,
   "id": "345e1dbb-ebf2-4cc1-9909-83b271a67a37",
   "metadata": {},
   "outputs": [],
   "source": [
    "# Count the number of space characters in beginning of document."
   ]
  },
  {
   "cell_type": "code",
   "execution_count": 285,
   "id": "75ae5ce0-4d47-4348-9efd-d2f0539f2a2b",
   "metadata": {},
   "outputs": [
    {
     "name": "stdout",
     "output_type": "stream",
     "text": [
      "(starting_index, ending_index) = (0, 14)\n",
      "starting_index = 0\n",
      "ending_index = 14\n",
      "Returns length of pattern = 14\n"
     ]
    }
   ],
   "source": [
    "document = '    \\t   \\t \\t   how are you today .. aiebsdha346t;l2kyh;1'\n",
    "p = re.compile('\\s*')\n",
    "m = p.match(document)\n",
    "print(f'(starting_index, ending_index) = {m.span()}')\n",
    "\n",
    "print(f'starting_index = {m.start()}')\n",
    "print(f'ending_index = {m.end()}')\n",
    "\n",
    "print(f'Returns length of pattern = {len(m.group())}')"
   ]
  },
  {
   "cell_type": "code",
   "execution_count": 284,
   "id": "42424848-1edd-439d-b0d3-b6f72ce6172c",
   "metadata": {},
   "outputs": [
    {
     "name": "stdout",
     "output_type": "stream",
     "text": [
      "(starting_index, ending_index) = (0, 0)\n",
      "starting_index = 0\n",
      "ending_index = 0\n",
      "Returns length of pattern = 0\n"
     ]
    }
   ],
   "source": [
    "document = 'non-empty-beginning    \\t   \\t \\t   how are you today .. aiebsdha346t;l2kyh;1'\n",
    "p = re.compile('\\s*')\n",
    "m = p.match(document)\n",
    "print(f'(starting_index, ending_index) = {m.span()}')\n",
    "\n",
    "print(f'starting_index = {m.start()}')\n",
    "print(f'ending_index = {m.end()}')\n",
    "\n",
    "print(f'Returns length of pattern = {len(m.group())}')"
   ]
  },
  {
   "cell_type": "code",
   "execution_count": 287,
   "id": "933f5733-4d6d-4005-b9ce-95eb643296e5",
   "metadata": {},
   "outputs": [
    {
     "name": "stdout",
     "output_type": "stream",
     "text": [
      "(starting_index, ending_index) = (19, 33)\n",
      "starting_index = 19\n",
      "ending_index = 33\n",
      "Returns length of pattern = 14\n"
     ]
    }
   ],
   "source": [
    "document = 'non-empty-beginning    \\t   \\t \\t   how are you today .. aiebsdha346t;l2kyh;1'\n",
    "p = re.compile('\\s+')\n",
    "m = p.search(document)\n",
    "print(f'(starting_index, ending_index) = {m.span()}')\n",
    "\n",
    "print(f'starting_index = {m.start()}')\n",
    "print(f'ending_index = {m.end()}')\n",
    "\n",
    "print(f'Returns length of pattern = {len(m.group())}')"
   ]
  },
  {
   "cell_type": "markdown",
   "id": "e50060da-57a2-4e20-99d1-624058192ccb",
   "metadata": {},
   "source": [
    "## FindIter\n",
    "\n",
    "Note: findall does not tells at what index of the string did it find something. So we use finditer"
   ]
  },
  {
   "cell_type": "markdown",
   "id": "7f1bb42d-938d-42bd-b553-4d851ab3f2b8",
   "metadata": {},
   "source": [
    "---\n",
    "* List all locations where valid variables in a document exist.\n",
    "* Alphabets, underscores and whitespaces are valid.\n"
   ]
  },
  {
   "cell_type": "code",
   "execution_count": 294,
   "id": "048fca69-5281-47d0-9248-0a32bdd5f29e",
   "metadata": {},
   "outputs": [
    {
     "name": "stdout",
     "output_type": "stream",
     "text": [
      "(0, 6) <- located at indices a1sdfj\n",
      "(9, 20) <- located at indices laieor1kdjf\n",
      "(21, 27) <- located at indices aliejr\n",
      "(28, 39) <- located at indices akjdf235k4j\n",
      "(40, 45) <- located at indices lajds\n",
      "(46, 68) <- located at indices la123456sdfjoqweitulad\n",
      "(69, 71) <- located at indices ai\n",
      "(72, 79) <- located at indices weutadg\n",
      "(80, 127) <- located at indices lajoetiuaodkgjierasdkfjqoitlskdnfoqwi56789ekhas\n",
      "(128, 132) <- located at indices ioew\n",
      "(133, 162) <- located at indices adgoieaskdfl_asdkfei_asdjkfla\n",
      "(166, 175) <- located at indices askeasfff\n",
      "(180, 189) <- located at indices asdfjowei\n",
      "(193, 201) <- located at indices askdfoie\n"
     ]
    }
   ],
   "source": [
    "document = ('a1sdfj;35laieor1kdjf;aliejr;akjdf235k4j;lajds;'\n",
    "            'la123456sdfjoqweitulad;ai@weutadg;lajoetiuaodkgjier'\n",
    "            'asdkfjqoitlskdnfoqwi56789ekhas;ioew=adgoie'\n",
    "            'askdfl_asdkfei_asdjkfla****askeasfff'\n",
    "            '{{{{{asdfjowei@@##askdfoie}}}}}')\n",
    "\n",
    "p = re.compile('[a-zA-Z_]\\w*')\n",
    "list_1 = p.finditer(document)\n",
    "for i in list_1:\n",
    "    print(i.span(), '<- located at indices', i.group())\n",
    "    \n",
    "# (start, end)"
   ]
  },
  {
   "cell_type": "markdown",
   "id": "f1db458d-a7e3-4909-b4b7-20ed01d4cabc",
   "metadata": {},
   "source": [
    "---\n",
    "# Natural Language Processing Basics\n",
    "\n",
    "In NLP, what counts as a word, depends on what is the application. Set of such unique words is Vocabulary. Corpus is huge group of words."
   ]
  },
  {
   "cell_type": "markdown",
   "id": "9e80562f-4be7-43c3-94b6-a18bc10dd38b",
   "metadata": {},
   "source": [
    "# Tokenization using Spacy: \n",
    "\n",
    "List of words in a document. It may or may not be unique set of words. A different set surrounding it might change the meaning.\n"
   ]
  },
  {
   "cell_type": "code",
   "execution_count": 299,
   "id": "71e4f916-540a-4aa7-ab29-b28f97da62a5",
   "metadata": {
    "collapsed": true,
    "jupyter": {
     "outputs_hidden": true
    },
    "tags": []
   },
   "outputs": [
    {
     "name": "stdout",
     "output_type": "stream",
     "text": [
      "Requirement already satisfied: spacy in c:\\users\\raghu\\anaconda3\\lib\\site-packages (2.3.7)\n",
      "Requirement already satisfied: catalogue<1.1.0,>=0.0.7 in c:\\users\\raghu\\anaconda3\\lib\\site-packages (from spacy) (1.0.0)\n",
      "Requirement already satisfied: numpy>=1.15.0 in c:\\users\\raghu\\anaconda3\\lib\\site-packages (from spacy) (1.20.3)\n",
      "Requirement already satisfied: requests<3.0.0,>=2.13.0 in c:\\users\\raghu\\anaconda3\\lib\\site-packages (from spacy) (2.26.0)\n",
      "Requirement already satisfied: cymem<2.1.0,>=2.0.2 in c:\\users\\raghu\\anaconda3\\lib\\site-packages (from spacy) (2.0.6)\n",
      "Requirement already satisfied: thinc<7.5.0,>=7.4.1 in c:\\users\\raghu\\anaconda3\\lib\\site-packages (from spacy) (7.4.5)\n",
      "Requirement already satisfied: srsly<1.1.0,>=1.0.2 in c:\\users\\raghu\\anaconda3\\lib\\site-packages (from spacy) (1.0.5)\n",
      "Requirement already satisfied: wasabi<1.1.0,>=0.4.0 in c:\\users\\raghu\\anaconda3\\lib\\site-packages (from spacy) (0.9.1)\n",
      "Requirement already satisfied: setuptools in c:\\users\\raghu\\anaconda3\\lib\\site-packages (from spacy) (58.0.4)\n",
      "Requirement already satisfied: plac<1.2.0,>=0.9.6 in c:\\users\\raghu\\anaconda3\\lib\\site-packages (from spacy) (1.1.3)\n",
      "Requirement already satisfied: tqdm<5.0.0,>=4.38.0 in c:\\users\\raghu\\anaconda3\\lib\\site-packages (from spacy) (4.62.3)\n",
      "Requirement already satisfied: blis<0.8.0,>=0.4.0 in c:\\users\\raghu\\anaconda3\\lib\\site-packages (from spacy) (0.7.7)\n",
      "Requirement already satisfied: preshed<3.1.0,>=3.0.2 in c:\\users\\raghu\\anaconda3\\lib\\site-packages (from spacy) (3.0.6)\n",
      "Requirement already satisfied: murmurhash<1.1.0,>=0.28.0 in c:\\users\\raghu\\anaconda3\\lib\\site-packages (from spacy) (1.0.7)\n",
      "Requirement already satisfied: urllib3<1.27,>=1.21.1 in c:\\users\\raghu\\anaconda3\\lib\\site-packages (from requests<3.0.0,>=2.13.0->spacy) (1.26.7)\n",
      "Requirement already satisfied: idna<4,>=2.5 in c:\\users\\raghu\\anaconda3\\lib\\site-packages (from requests<3.0.0,>=2.13.0->spacy) (3.2)\n",
      "Requirement already satisfied: certifi>=2017.4.17 in c:\\users\\raghu\\anaconda3\\lib\\site-packages (from requests<3.0.0,>=2.13.0->spacy) (2021.10.8)\n",
      "Requirement already satisfied: charset-normalizer~=2.0.0 in c:\\users\\raghu\\anaconda3\\lib\\site-packages (from requests<3.0.0,>=2.13.0->spacy) (2.0.4)\n",
      "Requirement already satisfied: colorama in c:\\users\\raghu\\anaconda3\\lib\\site-packages (from tqdm<5.0.0,>=4.38.0->spacy) (0.4.4)\n"
     ]
    }
   ],
   "source": [
    "# !pip install spacy"
   ]
  },
  {
   "cell_type": "code",
   "execution_count": 302,
   "id": "602095e3-90b0-48cb-be2b-925e35b55afa",
   "metadata": {
    "collapsed": true,
    "jupyter": {
     "outputs_hidden": true
    },
    "tags": []
   },
   "outputs": [
    {
     "name": "stdout",
     "output_type": "stream",
     "text": [
      "Collecting en_core_web_sm==2.3.1\n",
      "  Downloading https://github.com/explosion/spacy-models/releases/download/en_core_web_sm-2.3.1/en_core_web_sm-2.3.1.tar.gz (12.0 MB)\n",
      "Requirement already satisfied: spacy<2.4.0,>=2.3.0 in c:\\users\\raghu\\anaconda3\\lib\\site-packages (from en_core_web_sm==2.3.1) (2.3.7)\n",
      "Requirement already satisfied: cymem<2.1.0,>=2.0.2 in c:\\users\\raghu\\anaconda3\\lib\\site-packages (from spacy<2.4.0,>=2.3.0->en_core_web_sm==2.3.1) (2.0.6)\n",
      "Requirement already satisfied: plac<1.2.0,>=0.9.6 in c:\\users\\raghu\\anaconda3\\lib\\site-packages (from spacy<2.4.0,>=2.3.0->en_core_web_sm==2.3.1) (1.1.3)\n",
      "Requirement already satisfied: thinc<7.5.0,>=7.4.1 in c:\\users\\raghu\\anaconda3\\lib\\site-packages (from spacy<2.4.0,>=2.3.0->en_core_web_sm==2.3.1) (7.4.5)\n",
      "Requirement already satisfied: preshed<3.1.0,>=3.0.2 in c:\\users\\raghu\\anaconda3\\lib\\site-packages (from spacy<2.4.0,>=2.3.0->en_core_web_sm==2.3.1) (3.0.6)\n",
      "Requirement already satisfied: wasabi<1.1.0,>=0.4.0 in c:\\users\\raghu\\anaconda3\\lib\\site-packages (from spacy<2.4.0,>=2.3.0->en_core_web_sm==2.3.1) (0.9.1)\n",
      "Requirement already satisfied: tqdm<5.0.0,>=4.38.0 in c:\\users\\raghu\\anaconda3\\lib\\site-packages (from spacy<2.4.0,>=2.3.0->en_core_web_sm==2.3.1) (4.62.3)\n",
      "Requirement already satisfied: setuptools in c:\\users\\raghu\\anaconda3\\lib\\site-packages (from spacy<2.4.0,>=2.3.0->en_core_web_sm==2.3.1) (58.0.4)\n",
      "Requirement already satisfied: blis<0.8.0,>=0.4.0 in c:\\users\\raghu\\anaconda3\\lib\\site-packages (from spacy<2.4.0,>=2.3.0->en_core_web_sm==2.3.1) (0.7.7)\n",
      "Requirement already satisfied: requests<3.0.0,>=2.13.0 in c:\\users\\raghu\\anaconda3\\lib\\site-packages (from spacy<2.4.0,>=2.3.0->en_core_web_sm==2.3.1) (2.26.0)\n",
      "Requirement already satisfied: srsly<1.1.0,>=1.0.2 in c:\\users\\raghu\\anaconda3\\lib\\site-packages (from spacy<2.4.0,>=2.3.0->en_core_web_sm==2.3.1) (1.0.5)\n",
      "Requirement already satisfied: catalogue<1.1.0,>=0.0.7 in c:\\users\\raghu\\anaconda3\\lib\\site-packages (from spacy<2.4.0,>=2.3.0->en_core_web_sm==2.3.1) (1.0.0)\n",
      "Requirement already satisfied: murmurhash<1.1.0,>=0.28.0 in c:\\users\\raghu\\anaconda3\\lib\\site-packages (from spacy<2.4.0,>=2.3.0->en_core_web_sm==2.3.1) (1.0.7)\n",
      "Requirement already satisfied: numpy>=1.15.0 in c:\\users\\raghu\\anaconda3\\lib\\site-packages (from spacy<2.4.0,>=2.3.0->en_core_web_sm==2.3.1) (1.20.3)\n",
      "Requirement already satisfied: certifi>=2017.4.17 in c:\\users\\raghu\\anaconda3\\lib\\site-packages (from requests<3.0.0,>=2.13.0->spacy<2.4.0,>=2.3.0->en_core_web_sm==2.3.1) (2021.10.8)\n",
      "Requirement already satisfied: charset-normalizer~=2.0.0 in c:\\users\\raghu\\anaconda3\\lib\\site-packages (from requests<3.0.0,>=2.13.0->spacy<2.4.0,>=2.3.0->en_core_web_sm==2.3.1) (2.0.4)\n",
      "Requirement already satisfied: urllib3<1.27,>=1.21.1 in c:\\users\\raghu\\anaconda3\\lib\\site-packages (from requests<3.0.0,>=2.13.0->spacy<2.4.0,>=2.3.0->en_core_web_sm==2.3.1) (1.26.7)\n",
      "Requirement already satisfied: idna<4,>=2.5 in c:\\users\\raghu\\anaconda3\\lib\\site-packages (from requests<3.0.0,>=2.13.0->spacy<2.4.0,>=2.3.0->en_core_web_sm==2.3.1) (3.2)\n",
      "Requirement already satisfied: colorama in c:\\users\\raghu\\anaconda3\\lib\\site-packages (from tqdm<5.0.0,>=4.38.0->spacy<2.4.0,>=2.3.0->en_core_web_sm==2.3.1) (0.4.4)\n",
      "Building wheels for collected packages: en-core-web-sm\n",
      "  Building wheel for en-core-web-sm (setup.py): started\n",
      "  Building wheel for en-core-web-sm (setup.py): finished with status 'done'\n",
      "  Created wheel for en-core-web-sm: filename=en_core_web_sm-2.3.1-py3-none-any.whl size=12047105 sha256=83726ad2bd3814e70c0668493e6b519aef813811e766a0055d717a205dd5664b\n",
      "  Stored in directory: c:\\users\\raghu\\appdata\\local\\pip\\cache\\wheels\\19\\d6\\1c\\5484b95647df5d7afaf74abde458c66c1cd427e69e801fe826\n",
      "Successfully built en-core-web-sm\n",
      "Installing collected packages: en-core-web-sm\n",
      "Successfully installed en-core-web-sm-2.3.1\n",
      "[+] Download and installation successful\n",
      "You can now load the model via spacy.load('en_core_web_sm')\n"
     ]
    }
   ],
   "source": [
    "# !python -m spacy download en_core_web_sm"
   ]
  },
  {
   "cell_type": "code",
   "execution_count": 16,
   "id": "021e7711-a533-454c-a4da-005f36fe69d6",
   "metadata": {
    "tags": []
   },
   "outputs": [
    {
     "name": "stdout",
     "output_type": "stream",
     "text": [
      "I\n",
      "always\n",
      "uh\n",
      "do\n",
      "the\n",
      "main\n",
      "um\n",
      "processing\n",
      ",\n",
      "I\n",
      "mean\n",
      ",\n",
      "the\n",
      "uh\n",
      "um\n",
      "data\n",
      "-\n",
      "processing\n",
      ".\n"
     ]
    }
   ],
   "source": [
    "import spacy\n",
    "import re\n",
    "\n",
    "nlp = spacy.load('en_core_web_sm')\n",
    "\n",
    "document = 'I always uh do the main um processing, I mean, the uh um data-processing.'\n",
    "\n",
    "# Statistics\n",
    "stats = nlp(document)\n",
    "\n",
    "# Tokenization\n",
    "for token in stats:\n",
    "    print(token.text)"
   ]
  },
  {
   "cell_type": "code",
   "execution_count": 10,
   "id": "7eb22976-651d-414f-9007-f2e1dbfbcdd0",
   "metadata": {},
   "outputs": [],
   "source": [
    "# U.K. is treated as a single token! Just the way we wanted. Thanks to spacy!"
   ]
  },
  {
   "cell_type": "code",
   "execution_count": 18,
   "id": "50afdf06-0954-4f22-9858-dd1ccc75fa4e",
   "metadata": {},
   "outputs": [
    {
     "name": "stdout",
     "output_type": "stream",
     "text": [
      "U.K.\n",
      "has\n",
      "a\n",
      "reasonable\n",
      "population\n",
      "!\n"
     ]
    }
   ],
   "source": [
    "import spacy\n",
    "import re\n",
    "\n",
    "document = 'U.K. has a reasonable population!'\n",
    "\n",
    "# Load\n",
    "nlp = spacy.load('en_core_web_sm')\n",
    "# Statistics\n",
    "stats = nlp(document)\n",
    "\n",
    "# Tokenization\n",
    "for token in stats:\n",
    "    print(token.text)"
   ]
  },
  {
   "cell_type": "code",
   "execution_count": null,
   "id": "77e0cbe5-024f-4da5-9f98-469f7bf945d0",
   "metadata": {},
   "outputs": [],
   "source": [
    "# ------"
   ]
  },
  {
   "cell_type": "code",
   "execution_count": null,
   "id": "f54dc720-3384-4bff-88f3-5329c18ed609",
   "metadata": {},
   "outputs": [
    {
     "name": "stdout",
     "output_type": "stream",
     "text": [
      "matchObj.group() :  Cats are smarter than dogs\n",
      "matchObj.group(1) :  Cats\n",
      "matchObj.group(2) :  smarter\n"
     ]
    }
   ],
   "source": [
    "\n",
    "line = \"Cats are smarter than dogs\"\n",
    "\n",
    "matchObj = re.match( r'(.*) are (.*?) .*', line, re.M|re.I)\n",
    "\n",
    "if matchObj:\n",
    "   print (\"matchObj.group() : \", matchObj.group())\n",
    "   print (\"matchObj.group(1) : \", matchObj.group(1))\n",
    "   print (\"matchObj.group(2) : \", matchObj.group(2))\n",
    "else:\n",
    "   print (\"No match!!\")"
   ]
  },
  {
   "cell_type": "code",
   "execution_count": null,
   "id": "d074dee3-2edc-4f3a-a6fc-ff0e1862ef50",
   "metadata": {},
   "outputs": [],
   "source": []
  },
  {
   "cell_type": "code",
   "execution_count": null,
   "id": "f0624372-6397-4eb4-a23f-00b360d7076b",
   "metadata": {},
   "outputs": [],
   "source": [
    "import nltk\n",
    "from nltk import pos_tag\n",
    "from nltk import word_tokenize\n",
    "\n",
    "%matplotlib inline"
   ]
  },
  {
   "cell_type": "markdown",
   "id": "5a10a4c2-378a-461f-816a-4e825bca382c",
   "metadata": {
    "tags": []
   },
   "source": [
    "## Parts of Speech"
   ]
  },
  {
   "cell_type": "code",
   "execution_count": null,
   "id": "f6b7e2ff-756b-411b-a3a2-c900169236cb",
   "metadata": {},
   "outputs": [
    {
     "data": {
      "text/plain": [
       "[('Hello', 'NNP'),\n",
       " ('World', 'NNP'),\n",
       " (',', ','),\n",
       " ('this', 'DT'),\n",
       " ('is', 'VBZ'),\n",
       " ('a', 'DT'),\n",
       " ('fox', 'NN'),\n",
       " ('on', 'IN'),\n",
       " ('a', 'DT'),\n",
       " ('wheelchair', 'NN'),\n",
       " ('.', '.')]"
      ]
     },
     "execution_count": 6,
     "metadata": {},
     "output_type": "execute_result"
    }
   ],
   "source": [
    "# Tag Parts of Speech ( PoS)\n",
    "sentence = word_tokenize(\"Hello World, this is a fox on a wheelchair.\")\n",
    "pos_tag(sentence)"
   ]
  },
  {
   "cell_type": "markdown",
   "id": "8928bdb3-7096-46a0-96b3-c4c50e52f293",
   "metadata": {},
   "source": [
    "* NNP - Proper nouns (NNP) name specific people, places, things, or ideas.  Since they these nouns are naming specific things, they always begin with a capital letter. \n",
    "* NN - Common nouns are the opposite of proper nouns. They are your run of the mill, generic nouns. They name people, places, things or ideas that are not specific.\n",
    "* DT - Determiners are divided into three main groups: \n",
    "\n",
    "    1.  central determiners (the articles and other words such as my, this, and some that also function as pronouns); \n",
    "    2.  predeterminers (for example all, both, twice, such); \n",
    "    3.  post determiners (for example many, few, several, and the Numerals).\n",
    "* VBZ - The verb 3rd person singular present (-S, VBZ) form is very commonly used for main verbs and auxiliary verbs in the simple present tense when the subject is or means he, she, or it. The -S form is also very commonly used as a full (has) or contracted ('s) auxiliary verb in the present perfect tense when the subject is or means he, she, or it.\n",
    "\n",
    "* IN - Subordinating Conjunctions, joining a subordinate or dependent clause to a principal or independent clause."
   ]
  },
  {
   "cell_type": "markdown",
   "id": "6177c86b-9aae-4170-b6d0-5064050ebf54",
   "metadata": {},
   "source": [
    "## Sentence Parsing"
   ]
  },
  {
   "cell_type": "code",
   "execution_count": 9,
   "id": "03be0259-fa1a-457a-a75f-622f1f000657",
   "metadata": {},
   "outputs": [
    {
     "name": "stdout",
     "output_type": "stream",
     "text": [
      "(S\n",
      "  (NP I)\n",
      "  (VP\n",
      "    (VP (V shot) (NP (Det an) (N elephant)))\n",
      "    (PP (P in) (NP (Det my) (N pajamas)))))\n",
      "(S\n",
      "  (NP I)\n",
      "  (VP\n",
      "    (V shot)\n",
      "    (NP (Det an) (N elephant) (PP (P in) (NP (Det my) (N pajamas))))))\n"
     ]
    }
   ],
   "source": [
    "# Define a custom grammar\n",
    "\n",
    "my_grammar = nltk.CFG.fromstring(\"\"\"\n",
    "S -> NP VP\n",
    "PP -> P NP\n",
    "NP -> Det N | Det N PP | 'I'\n",
    "VP -> V NP | VP PP\n",
    "Det -> 'an' | 'my'\n",
    "N -> 'elephant' | 'pajamas'\n",
    "V -> 'shot'\n",
    "P -> 'in'\n",
    "\"\"\")\n",
    "\n",
    "parser = nltk.ChartParser(my_grammar)\n",
    "\n",
    "# Parse a Sentence\n",
    "sentence = word_tokenize(\"I shot an elephant in my pajamas\")\n",
    "\n",
    "for tree in parser.parse(sentence):\n",
    "    print(tree)"
   ]
  },
  {
   "cell_type": "code",
   "execution_count": 16,
   "id": "864bc014-3120-4882-a713-3bcafe6422bc",
   "metadata": {},
   "outputs": [],
   "source": [
    "# Visualize Parse Trees\n",
    "\n",
    "for tree in parser.parse(sentence):\n",
    "    tree.draw()"
   ]
  },
  {
   "cell_type": "markdown",
   "id": "c6194ad9-741b-4295-982c-1f55aba5e744",
   "metadata": {},
   "source": [
    "## Named Entity Recognition"
   ]
  },
  {
   "cell_type": "code",
   "execution_count": 19,
   "id": "ea05b4b7-4b2a-4a49-a043-2127035f3f4d",
   "metadata": {
    "tags": []
   },
   "outputs": [
    {
     "name": "stderr",
     "output_type": "stream",
     "text": [
      "The Ghostscript executable isn't found.\n",
      "See http://web.mit.edu/ghostscript/www/Install.htm\n",
      "If you're using a Mac, you can try installing\n",
      "https://docs.brew.sh/Installation then `brew install ghostscript`\n"
     ]
    },
    {
     "ename": "LookupError",
     "evalue": "",
     "output_type": "error",
     "traceback": [
      "\u001b[1;31m---------------------------------------------------------------------------\u001b[0m",
      "\u001b[1;31mLookupError\u001b[0m                               Traceback (most recent call last)",
      "\u001b[1;32m~\\anaconda3\\lib\\site-packages\\nltk\\tree.py\u001b[0m in \u001b[0;36m_repr_png_\u001b[1;34m(self)\u001b[0m\n\u001b[0;32m    813\u001b[0m                     [\n\u001b[1;32m--> 814\u001b[1;33m                         find_binary(\n\u001b[0m\u001b[0;32m    815\u001b[0m                             \u001b[1;34m\"gs\"\u001b[0m\u001b[1;33m,\u001b[0m\u001b[1;33m\u001b[0m\u001b[1;33m\u001b[0m\u001b[0m\n",
      "\u001b[1;32m~\\anaconda3\\lib\\site-packages\\nltk\\internals.py\u001b[0m in \u001b[0;36mfind_binary\u001b[1;34m(name, path_to_bin, env_vars, searchpath, binary_names, url, verbose)\u001b[0m\n\u001b[0;32m    686\u001b[0m ):\n\u001b[1;32m--> 687\u001b[1;33m     return next(\n\u001b[0m\u001b[0;32m    688\u001b[0m         find_binary_iter(\n",
      "\u001b[1;32m~\\anaconda3\\lib\\site-packages\\nltk\\internals.py\u001b[0m in \u001b[0;36mfind_binary_iter\u001b[1;34m(name, path_to_bin, env_vars, searchpath, binary_names, url, verbose)\u001b[0m\n\u001b[0;32m    672\u001b[0m     \"\"\"\n\u001b[1;32m--> 673\u001b[1;33m     yield from find_file_iter(\n\u001b[0m\u001b[0;32m    674\u001b[0m         \u001b[0mpath_to_bin\u001b[0m \u001b[1;32mor\u001b[0m \u001b[0mname\u001b[0m\u001b[1;33m,\u001b[0m \u001b[0menv_vars\u001b[0m\u001b[1;33m,\u001b[0m \u001b[0msearchpath\u001b[0m\u001b[1;33m,\u001b[0m \u001b[0mbinary_names\u001b[0m\u001b[1;33m,\u001b[0m \u001b[0murl\u001b[0m\u001b[1;33m,\u001b[0m \u001b[0mverbose\u001b[0m\u001b[1;33m\u001b[0m\u001b[1;33m\u001b[0m\u001b[0m\n",
      "\u001b[1;32m~\\anaconda3\\lib\\site-packages\\nltk\\internals.py\u001b[0m in \u001b[0;36mfind_file_iter\u001b[1;34m(filename, env_vars, searchpath, file_names, url, verbose, finding_dir)\u001b[0m\n\u001b[0;32m    631\u001b[0m         \u001b[0mdiv\u001b[0m \u001b[1;33m=\u001b[0m \u001b[1;34m\"=\"\u001b[0m \u001b[1;33m*\u001b[0m \u001b[1;36m75\u001b[0m\u001b[1;33m\u001b[0m\u001b[1;33m\u001b[0m\u001b[0m\n\u001b[1;32m--> 632\u001b[1;33m         \u001b[1;32mraise\u001b[0m \u001b[0mLookupError\u001b[0m\u001b[1;33m(\u001b[0m\u001b[1;34mf\"\\n\\n{div}\\n{msg}\\n{div}\"\u001b[0m\u001b[1;33m)\u001b[0m\u001b[1;33m\u001b[0m\u001b[1;33m\u001b[0m\u001b[0m\n\u001b[0m\u001b[0;32m    633\u001b[0m \u001b[1;33m\u001b[0m\u001b[0m\n",
      "\u001b[1;31mLookupError\u001b[0m: \n\n===========================================================================\nNLTK was unable to find the gs file!\nUse software specific configuration parameters or set the PATH environment variable.\n===========================================================================",
      "\nThe above exception was the direct cause of the following exception:\n",
      "\u001b[1;31mLookupError\u001b[0m                               Traceback (most recent call last)",
      "\u001b[1;32m~\\anaconda3\\lib\\site-packages\\IPython\\core\\formatters.py\u001b[0m in \u001b[0;36m__call__\u001b[1;34m(self, obj)\u001b[0m\n\u001b[0;32m    343\u001b[0m             \u001b[0mmethod\u001b[0m \u001b[1;33m=\u001b[0m \u001b[0mget_real_method\u001b[0m\u001b[1;33m(\u001b[0m\u001b[0mobj\u001b[0m\u001b[1;33m,\u001b[0m \u001b[0mself\u001b[0m\u001b[1;33m.\u001b[0m\u001b[0mprint_method\u001b[0m\u001b[1;33m)\u001b[0m\u001b[1;33m\u001b[0m\u001b[1;33m\u001b[0m\u001b[0m\n\u001b[0;32m    344\u001b[0m             \u001b[1;32mif\u001b[0m \u001b[0mmethod\u001b[0m \u001b[1;32mis\u001b[0m \u001b[1;32mnot\u001b[0m \u001b[1;32mNone\u001b[0m\u001b[1;33m:\u001b[0m\u001b[1;33m\u001b[0m\u001b[1;33m\u001b[0m\u001b[0m\n\u001b[1;32m--> 345\u001b[1;33m                 \u001b[1;32mreturn\u001b[0m \u001b[0mmethod\u001b[0m\u001b[1;33m(\u001b[0m\u001b[1;33m)\u001b[0m\u001b[1;33m\u001b[0m\u001b[1;33m\u001b[0m\u001b[0m\n\u001b[0m\u001b[0;32m    346\u001b[0m             \u001b[1;32mreturn\u001b[0m \u001b[1;32mNone\u001b[0m\u001b[1;33m\u001b[0m\u001b[1;33m\u001b[0m\u001b[0m\n\u001b[0;32m    347\u001b[0m         \u001b[1;32melse\u001b[0m\u001b[1;33m:\u001b[0m\u001b[1;33m\u001b[0m\u001b[1;33m\u001b[0m\u001b[0m\n",
      "\u001b[1;32m~\\anaconda3\\lib\\site-packages\\nltk\\tree.py\u001b[0m in \u001b[0;36m_repr_png_\u001b[1;34m(self)\u001b[0m\n\u001b[0;32m    831\u001b[0m                 )\n\u001b[0;32m    832\u001b[0m                 \u001b[0mprint\u001b[0m\u001b[1;33m(\u001b[0m\u001b[0mpre_error_message\u001b[0m\u001b[1;33m,\u001b[0m \u001b[0mfile\u001b[0m\u001b[1;33m=\u001b[0m\u001b[0msys\u001b[0m\u001b[1;33m.\u001b[0m\u001b[0mstderr\u001b[0m\u001b[1;33m)\u001b[0m\u001b[1;33m\u001b[0m\u001b[1;33m\u001b[0m\u001b[0m\n\u001b[1;32m--> 833\u001b[1;33m                 \u001b[1;32mraise\u001b[0m \u001b[0mLookupError\u001b[0m \u001b[1;32mfrom\u001b[0m \u001b[0me\u001b[0m\u001b[1;33m\u001b[0m\u001b[1;33m\u001b[0m\u001b[0m\n\u001b[0m\u001b[0;32m    834\u001b[0m \u001b[1;33m\u001b[0m\u001b[0m\n\u001b[0;32m    835\u001b[0m             \u001b[1;32mwith\u001b[0m \u001b[0mopen\u001b[0m\u001b[1;33m(\u001b[0m\u001b[0mout_path\u001b[0m\u001b[1;33m,\u001b[0m \u001b[1;34m\"rb\"\u001b[0m\u001b[1;33m)\u001b[0m \u001b[1;32mas\u001b[0m \u001b[0msr\u001b[0m\u001b[1;33m:\u001b[0m\u001b[1;33m\u001b[0m\u001b[1;33m\u001b[0m\u001b[0m\n",
      "\u001b[1;31mLookupError\u001b[0m: "
     ]
    },
    {
     "data": {
      "text/plain": [
       "Tree('S', [Tree('PERSON', [('Hello', 'NNP')]), ('Antonio', 'NNP'), ('I', 'PRP'), ('have', 'VBP'), ('joined', 'VBN'), Tree('PERSON', [('Reed', 'NNP'), ('College', 'NNP')]), ('in', 'IN'), Tree('GPE', [('United', 'NNP'), ('States', 'NNPS')]), ('.', '.')])"
      ]
     },
     "execution_count": 19,
     "metadata": {},
     "output_type": "execute_result"
    }
   ],
   "source": [
    "from nltk import pos_tag, ne_chunk\n",
    "from nltk.tokenize import word_tokenize\n",
    "\n",
    "\n",
    "# Recognize named entities in tagged sentence\n",
    "ne_chunk(pos_tag(word_tokenize(\"Hello Antonio I have joined Reed College in United States.\")))"
   ]
  },
  {
   "cell_type": "code",
   "execution_count": null,
   "id": "811f109d-d80a-4b29-9024-8ce93895c7c3",
   "metadata": {},
   "outputs": [],
   "source": []
  },
  {
   "cell_type": "code",
   "execution_count": null,
   "id": "9f307be6-d6e4-48a9-b9aa-9f63e05966e5",
   "metadata": {},
   "outputs": [],
   "source": []
  },
  {
   "cell_type": "code",
   "execution_count": null,
   "id": "1718df77-ec44-4861-a08a-e3b55754b4ce",
   "metadata": {},
   "outputs": [],
   "source": []
  },
  {
   "cell_type": "code",
   "execution_count": null,
   "id": "fe4d62d6-3112-4795-abdf-8be8d2ffe009",
   "metadata": {},
   "outputs": [],
   "source": []
  }
 ],
 "metadata": {
  "kernelspec": {
   "display_name": "Python 3 (ipykernel)",
   "language": "python",
   "name": "python3"
  },
  "language_info": {
   "codemirror_mode": {
    "name": "ipython",
    "version": 3
   },
   "file_extension": ".py",
   "mimetype": "text/x-python",
   "name": "python",
   "nbconvert_exporter": "python",
   "pygments_lexer": "ipython3",
   "version": "3.9.12"
  },
  "toc-showtags": false
 },
 "nbformat": 4,
 "nbformat_minor": 5
}
