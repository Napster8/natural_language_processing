{
 "cells": [
  {
   "cell_type": "markdown",
   "id": "760ba25d-3620-4709-bbf9-8bcd09b1f11e",
   "metadata": {},
   "source": [
    "# Yelp Reviews Sentiment Analysis.\n",
    "\n",
    "By: Raghavendra Tapas\n",
    "\n",
    "The goal is to processing 56k user comments and check what was the overall review.\n"
   ]
  },
  {
   "cell_type": "code",
   "execution_count": 3,
   "id": "58149973-6825-4380-b96d-e5da1fae8cf2",
   "metadata": {},
   "outputs": [],
   "source": [
    "import spacy\n",
    "import re\n",
    "import pandas as pd\n",
    "import numpy as np\n",
    "from collections import Counter"
   ]
  },
  {
   "cell_type": "code",
   "execution_count": 4,
   "id": "55a602ce-c904-416a-a2e4-95a5d1805435",
   "metadata": {},
   "outputs": [],
   "source": [
    "from sklearn.linear_model import LogisticRegression as lr\n",
    "from sklearn.naive_bayes import GaussianNB as gnb\n",
    "from sklearn.ensemble import RandomForestClassifier as rfc\n",
    "from sklearn.svm import SVC as svc\n",
    "from sklearn.metrics import confusion_matrix\n",
    "from sklearn.model_selection import cross_val_score\n",
    "\n",
    "import collections\n",
    "import seaborn as sns\n",
    "from matplotlib import pyplot as plt\n",
    "sns.set()"
   ]
  },
  {
   "cell_type": "code",
   "execution_count": 5,
   "id": "62d49af6-e9e4-4361-8196-427375e698a1",
   "metadata": {},
   "outputs": [
    {
     "data": {
      "text/html": [
       "<div>\n",
       "<style scoped>\n",
       "    .dataframe tbody tr th:only-of-type {\n",
       "        vertical-align: middle;\n",
       "    }\n",
       "\n",
       "    .dataframe tbody tr th {\n",
       "        vertical-align: top;\n",
       "    }\n",
       "\n",
       "    .dataframe thead th {\n",
       "        text-align: right;\n",
       "    }\n",
       "</style>\n",
       "<table border=\"1\" class=\"dataframe\">\n",
       "  <thead>\n",
       "    <tr style=\"text-align: right;\">\n",
       "      <th></th>\n",
       "      <th>rating</th>\n",
       "      <th>review</th>\n",
       "    </tr>\n",
       "  </thead>\n",
       "  <tbody>\n",
       "    <tr>\n",
       "      <th>0</th>\n",
       "      <td>negative</td>\n",
       "      <td>terrible place to work for i just heard a stor...</td>\n",
       "    </tr>\n",
       "    <tr>\n",
       "      <th>1</th>\n",
       "      <td>negative</td>\n",
       "      <td>hours , minutes total time for an extremely s...</td>\n",
       "    </tr>\n",
       "    <tr>\n",
       "      <th>2</th>\n",
       "      <td>negative</td>\n",
       "      <td>my less than stellar review is for service . w...</td>\n",
       "    </tr>\n",
       "    <tr>\n",
       "      <th>3</th>\n",
       "      <td>negative</td>\n",
       "      <td>i m granting one star because there s no way t...</td>\n",
       "    </tr>\n",
       "    <tr>\n",
       "      <th>4</th>\n",
       "      <td>negative</td>\n",
       "      <td>the food here is mediocre at best . i went aft...</td>\n",
       "    </tr>\n",
       "    <tr>\n",
       "      <th>...</th>\n",
       "      <td>...</td>\n",
       "      <td>...</td>\n",
       "    </tr>\n",
       "    <tr>\n",
       "      <th>55995</th>\n",
       "      <td>positive</td>\n",
       "      <td>great food . wonderful , friendly service . i ...</td>\n",
       "    </tr>\n",
       "    <tr>\n",
       "      <th>55996</th>\n",
       "      <td>positive</td>\n",
       "      <td>charlotte should be the new standard for moder...</td>\n",
       "    </tr>\n",
       "    <tr>\n",
       "      <th>55997</th>\n",
       "      <td>positive</td>\n",
       "      <td>get the encore sandwich ! ! make sure to get i...</td>\n",
       "    </tr>\n",
       "    <tr>\n",
       "      <th>55998</th>\n",
       "      <td>positive</td>\n",
       "      <td>i m a pretty big ice cream gelato fan . pretty...</td>\n",
       "    </tr>\n",
       "    <tr>\n",
       "      <th>55999</th>\n",
       "      <td>positive</td>\n",
       "      <td>where else can you find all the parts and piec...</td>\n",
       "    </tr>\n",
       "  </tbody>\n",
       "</table>\n",
       "<p>56000 rows × 2 columns</p>\n",
       "</div>"
      ],
      "text/plain": [
       "         rating                                             review\n",
       "0      negative  terrible place to work for i just heard a stor...\n",
       "1      negative   hours , minutes total time for an extremely s...\n",
       "2      negative  my less than stellar review is for service . w...\n",
       "3      negative  i m granting one star because there s no way t...\n",
       "4      negative  the food here is mediocre at best . i went aft...\n",
       "...         ...                                                ...\n",
       "55995  positive  great food . wonderful , friendly service . i ...\n",
       "55996  positive  charlotte should be the new standard for moder...\n",
       "55997  positive  get the encore sandwich ! ! make sure to get i...\n",
       "55998  positive  i m a pretty big ice cream gelato fan . pretty...\n",
       "55999  positive  where else can you find all the parts and piec...\n",
       "\n",
       "[56000 rows x 2 columns]"
      ]
     },
     "execution_count": 5,
     "metadata": {},
     "output_type": "execute_result"
    }
   ],
   "source": [
    "# Reviews dataset\n",
    "df = pd.read_csv('reviews.csv')\n",
    "df"
   ]
  },
  {
   "cell_type": "code",
   "execution_count": 6,
   "id": "5460546f-d1cb-44d4-8e68-89ba2d820bce",
   "metadata": {},
   "outputs": [
    {
     "data": {
      "text/plain": [
       "1160"
      ]
     },
     "execution_count": 6,
     "metadata": {},
     "output_type": "execute_result"
    }
   ],
   "source": [
    "# Spacy has a built-in function to generate a vocabulary.\n",
    "nlp = spacy.load('en_core_web_sm')\n",
    "spacy_vocab = list(nlp.vocab.strings)\n",
    "\n",
    "# Length of the vocabulary\n",
    "len(spacy_vocab)"
   ]
  },
  {
   "cell_type": "code",
   "execution_count": 38,
   "id": "de6cc6fc-a373-4c50-be97-aa090b865ac1",
   "metadata": {},
   "outputs": [
    {
     "name": "stdout",
     "output_type": "stream",
     "text": [
      "Done\n"
     ]
    }
   ],
   "source": [
    "# Initialize Dictionary\n",
    "vocab = {}\n",
    "\n",
    "def add_token(token):\n",
    "    '''\n",
    "    Takes token as input, store it if its a new token else return index\n",
    "    '''\n",
    "    if token in vocab['t_2_i']:\n",
    "        index = vocab['t_2_i'][token]\n",
    "    else:\n",
    "        index = len(vocab['t_2_i'])\n",
    "        vocab['t_2_i'][token] = index\n",
    "        vocab['i_2_t'][index] = token\n",
    "    \n",
    "    return index\n",
    "\n",
    "def initialize_vocabulary():\n",
    "    '''\n",
    "    setting initial values of some dictionaries\n",
    "    '''\n",
    "    unknown_token = '<UNKNOWN>'\n",
    "    vocab['t_2_i'] = {} # Token to index\n",
    "    vocab['i_2_t'] = {} # Index to token\n",
    "    vocab['unknown_token'] = unknown_token\n",
    "    index = add_token(unknown_token) # Function to add token\n",
    "    vocab['unknown_token_index'] = index\n",
    "\n",
    "def add_all_tokens(tokens):\n",
    "    indexes = [add_token(token) for token in tokens]\n",
    "    return indexes\n",
    "\n",
    "def look_up_token(token):\n",
    "    '''\n",
    "    Takes the token and returns the index location value\n",
    "    '''\n",
    "    if vocab['unknown_token_index'] >= 0:\n",
    "        return vocab['t_2_i'].get(token, vocab['unknown_token_index'])\n",
    "    else:\n",
    "        return vocab['t_2_i'][token]\n",
    "\n",
    "def look_up_index(index):\n",
    "    '''\n",
    "    Takes the index location as input and returns the token \n",
    "    '''\n",
    "    if index not in vocab['i_2_t']:\n",
    "        raise KeyError('The index (%d) is not there' % index)\n",
    "    return vocab['i_2_t'][index]\n",
    "\n",
    "def building_vocabulary(df, cutoff = 25):\n",
    "    '''\n",
    "    The words that occur atleast 25 times,\n",
    "    it qualifies to be in the vocabulary.\n",
    "    '''\n",
    "    initialize_vocabulary()\n",
    "    word_counts = Counter()\n",
    "    \n",
    "    for r in df['review']:\n",
    "        for word in re.split('\\W+', r):\n",
    "            word_counts[word] += 1\n",
    "    \n",
    "    for word, count in word_counts.items():\n",
    "        if count > cutoff:\n",
    "            add_token(word)\n",
    "    \n",
    "    print('Done')\n",
    "    \n",
    "# Initialize the dataset\n",
    "# df = pd.read_csv('reviews.csv')\n",
    "\n",
    "# build\n",
    "building_vocabulary(df)"
   ]
  },
  {
   "cell_type": "code",
   "execution_count": 8,
   "id": "a8a5c3d9-27e4-4484-b7e4-da817d27a34e",
   "metadata": {},
   "outputs": [
    {
     "data": {
      "text/plain": [
       "8946"
      ]
     },
     "execution_count": 8,
     "metadata": {},
     "output_type": "execute_result"
    }
   ],
   "source": [
    "# How Big is our Vocabulary (Dictionary data type)\n",
    "len(vocab['t_2_i'])"
   ]
  },
  {
   "cell_type": "code",
   "execution_count": 9,
   "id": "5db2bba8-934f-40b3-b063-d07fa0368265",
   "metadata": {},
   "outputs": [
    {
     "name": "stdout",
     "output_type": "stream",
     "text": [
      "<UNKNOWN>\n",
      "terrible\n",
      "place\n",
      "to\n",
      "work\n",
      "for\n",
      "i\n",
      "just\n",
      "heard\n",
      "a\n"
     ]
    }
   ],
   "source": [
    "# Display first 10 words\n",
    "for i in range(0, 10):\n",
    "    print(look_up_index(i))"
   ]
  },
  {
   "cell_type": "code",
   "execution_count": 10,
   "id": "c7ee61e1-36e1-4789-a04b-05451c0be104",
   "metadata": {},
   "outputs": [
    {
     "data": {
      "text/plain": [
       "7"
      ]
     },
     "execution_count": 10,
     "metadata": {},
     "output_type": "execute_result"
    }
   ],
   "source": [
    "look_up_token('just')"
   ]
  },
  {
   "cell_type": "code",
   "execution_count": 82,
   "id": "8e039711-8311-43aa-a592-174811a79580",
   "metadata": {},
   "outputs": [
    {
     "name": "stdout",
     "output_type": "stream",
     "text": [
      "Done\n"
     ]
    }
   ],
   "source": [
    "def building_corpus(corpus, cutoff = 30):\n",
    "    '''\n",
    "    The words that occur atleast 30 times,\n",
    "    it qualifies to be in the corpus of words.\n",
    "    '''\n",
    "    initialize_vocabulary()\n",
    "    word_counts = Counter()\n",
    "    \n",
    "    for doc in corpus:\n",
    "        for word in re.split('\\W+', doc):\n",
    "            word_counts[word] += 1\n",
    "    \n",
    "    for word, count in word_counts.items():\n",
    "        if count > cutoff:\n",
    "            add_token(word)\n",
    "    \n",
    "    print('Done')\n",
    "    \n",
    "# df = pd.read_csv('reviews.csv')\n",
    "\n",
    "corpus = np.asarray(df['review'])\n",
    "building_corpus(corpus)"
   ]
  },
  {
   "cell_type": "code",
   "execution_count": 12,
   "id": "0c283c2b-aaf9-4230-b186-bb68001147b3",
   "metadata": {},
   "outputs": [
    {
     "data": {
      "text/plain": [
       "'terrible place to work for i just heard a story of them find a girl over her biological father coming in there who she hadn t seen in years she said hi to him which upset his wife and they left she finished the rest of her day working fine the next day when she went into work they fired over that situation . i for one and boycotting texas roadhouse because any place that could be that cruel to their staff does not deserve my business . . . yelp wants me to give them a star but i don t believe they deserve it'"
      ]
     },
     "execution_count": 12,
     "metadata": {},
     "output_type": "execute_result"
    }
   ],
   "source": [
    "corpus[0]"
   ]
  },
  {
   "cell_type": "code",
   "execution_count": 20,
   "id": "ffc39383-49fb-4637-a6bc-a5a47665654a",
   "metadata": {},
   "outputs": [
    {
     "data": {
      "text/plain": [
       "8096"
      ]
     },
     "execution_count": 20,
     "metadata": {},
     "output_type": "execute_result"
    }
   ],
   "source": [
    "len(vocab['t_2_i'])"
   ]
  },
  {
   "cell_type": "code",
   "execution_count": 21,
   "id": "551c7619-4ff5-4ac8-95fd-b2b9fa00c91d",
   "metadata": {},
   "outputs": [
    {
     "data": {
      "text/plain": [
       "7"
      ]
     },
     "execution_count": 21,
     "metadata": {},
     "output_type": "execute_result"
    }
   ],
   "source": [
    "look_up_token('just')"
   ]
  },
  {
   "cell_type": "code",
   "execution_count": null,
   "id": "d29a34e8-22e5-4d8b-9156-742baf7d49b8",
   "metadata": {},
   "outputs": [],
   "source": []
  },
  {
   "cell_type": "markdown",
   "id": "9f608ec2-9745-46b5-8e6d-a66f925bd02c",
   "metadata": {},
   "source": [
    "## Word to Vector:\n",
    "\n",
    "A basic method of word vectorization is One Hot Encoding. It can be used as label Encoder in some applications such as Language Generation or machine translation.\n",
    "\n",
    "index('word_1') = 2 \n",
    "\n",
    "Can be represented as $ \\begin{bmatrix} 0 \\\\ 0 \\\\ 1 \\\\ 0 \\\\ . \\\\ . \\\\ \\end{bmatrix} $"
   ]
  },
  {
   "cell_type": "code",
   "execution_count": 23,
   "id": "8fe699b8-3ab1-4c5e-984a-d44ab3aea505",
   "metadata": {},
   "outputs": [
    {
     "name": "stdout",
     "output_type": "stream",
     "text": [
      "[[0.]\n",
      " [0.]\n",
      " [0.]\n",
      " ...\n",
      " [0.]\n",
      " [0.]\n",
      " [0.]]\n"
     ]
    }
   ],
   "source": [
    "def one_hot_vector(token, N):\n",
    "    '''\n",
    "    Converts a word to vector form\n",
    "    '''\n",
    "    one_hot = np.zeros((N, 1))\n",
    "    one_hot[look_up_token(token)] = 1\n",
    "    return one_hot\n",
    "\n",
    "n = len(vocab['t_2_i'])\n",
    "token = 'just'\n",
    "one_hot = one_hot_vector(token, n)\n",
    "print(one_hot)"
   ]
  },
  {
   "cell_type": "markdown",
   "id": "d4cb77cd-a23b-44b5-9c32-fc253ef5fffc",
   "metadata": {},
   "source": [
    "## Naive Method of Word to Vectorization\n",
    "\n",
    "Note that the vectorized form runs at a much faster time complexity in interpreted languages like python. But this is for better code grasping."
   ]
  },
  {
   "cell_type": "code",
   "execution_count": 16,
   "id": "788f5a0e-54ab-4e78-8a5e-941f221f9078",
   "metadata": {
    "jupyter": {
     "source_hidden": true
    },
    "tags": []
   },
   "outputs": [
    {
     "data": {
      "text/plain": [
       "array([[0.21247563],\n",
       "       [0.        ],\n",
       "       [0.        ],\n",
       "       ...,\n",
       "       [0.        ],\n",
       "       [0.        ],\n",
       "       [0.        ]])"
      ]
     },
     "execution_count": 16,
     "metadata": {},
     "output_type": "execute_result"
    }
   ],
   "source": [
    "# Naive Method of Word to Vectorization\n",
    "\n",
    "def compute_features(doc, N):\n",
    "    '''\n",
    "    SLOWER as this is using hstack\n",
    "    '''\n",
    "    isfirst = True\n",
    "    for token in doc:\n",
    "        one_hot = one_hot_vector(token, N)\n",
    "        if isfirst:\n",
    "            x = one_hot\n",
    "            isfirst = False\n",
    "        else:\n",
    "            x = np.hstack((x, one_hot))\n",
    "    return np.mean(x, axis = 1)[:, np.newaxis]\n",
    "\n",
    "# Feature Vector\n",
    "fv = compute_features(corpus[0], len(vocab['t_2_i']))\n",
    "fv"
   ]
  },
  {
   "cell_type": "markdown",
   "id": "75c8521a-9c3f-4317-9968-0e1af74605e3",
   "metadata": {},
   "source": [
    "hstack takes alot of time to create new array and copy values to it."
   ]
  },
  {
   "cell_type": "code",
   "execution_count": 25,
   "id": "348fc62a-6aeb-4d8a-81ad-64099c69f8ce",
   "metadata": {},
   "outputs": [
    {
     "data": {
      "text/plain": [
       "array([0.21247563, 0.        , 0.        , ..., 0.        , 0.        ,\n",
       "       0.        ])"
      ]
     },
     "execution_count": 25,
     "metadata": {},
     "output_type": "execute_result"
    }
   ],
   "source": [
    "def compute_features_faster(doc, N):\n",
    "    \n",
    "    fv = np.zeros(N)\n",
    "    num_tokens = 0\n",
    "    for token in doc:\n",
    "        fv[look_up_token(token)] += 1\n",
    "        num_tokens += 1\n",
    "    \n",
    "    return fv/num_tokens\n",
    "\n",
    "# Feature Vector\n",
    "fv = compute_features_faster(corpus[0], len(vocab['t_2_i']))\n",
    "fv"
   ]
  },
  {
   "cell_type": "markdown",
   "id": "ec6afd6b-abf2-485a-9736-69f2f4a350a1",
   "metadata": {},
   "source": [
    "## Creating Feature Matrix"
   ]
  },
  {
   "cell_type": "code",
   "execution_count": 120,
   "id": "ebfcb59b-2310-4bfe-8d0f-f55629d91d85",
   "metadata": {
    "jupyter": {
     "source_hidden": true
    },
    "tags": []
   },
   "outputs": [],
   "source": [
    "def corpus_to_feature_matrix(corpus, N):\n",
    "    '''\n",
    "    SUPER SLOW METHOD OF CALCULATION -- ABANDON THIS\n",
    "    '''\n",
    "    isfirst = True\n",
    "    for token in corpus:\n",
    "        one_hot = one_hot_vector(token, N)\n",
    "        if isfirst:\n",
    "            fM = fv     # Feature Matrix = Feature Vector\n",
    "            isfirst = False\n",
    "        else:\n",
    "            fM = np.hstack((fM, fv))\n",
    "            \n",
    "    print('Done')\n",
    "    return fm.T"
   ]
  },
  {
   "cell_type": "code",
   "execution_count": 30,
   "id": "32387674-12df-4cec-b207-ae0fed0768a0",
   "metadata": {},
   "outputs": [
    {
     "data": {
      "text/plain": [
       "array([0.21247563, 0.        , 0.        , ..., 0.        , 0.        ,\n",
       "       0.        ])"
      ]
     },
     "execution_count": 30,
     "metadata": {},
     "output_type": "execute_result"
    }
   ],
   "source": [
    "def corpus_to_feature_matrix_faster(corpus, N):\n",
    "    '''\n",
    "    Creating feature Matrix\n",
    "    Sci-Kit Implementations Feature Vectors are represented as row vectors.\n",
    "    In classical mathematics, feature vectors are represented as column vectors.\n",
    "    '''\n",
    "    # Feature Matrix\n",
    "    fM = np.zeros((N, len(corpus)))\n",
    "    i = 0\n",
    "    for doc in corpus:\n",
    "        fM[:, i] = compute_features_faster(doc, N)\n",
    "        i += 1\n",
    "    \n",
    "    return fM.T\n",
    "\n",
    "# Feature Vector\n",
    "fv = compute_features_faster(corpus[0], len(vocab['t_2_i']))\n",
    "fv"
   ]
  },
  {
   "cell_type": "code",
   "execution_count": 123,
   "id": "7d714ea7-655f-4188-8cb0-363947ffa886",
   "metadata": {},
   "outputs": [
    {
     "data": {
      "text/plain": [
       "(7320,)"
      ]
     },
     "execution_count": 123,
     "metadata": {},
     "output_type": "execute_result"
    }
   ],
   "source": [
    "fv.shape"
   ]
  },
  {
   "cell_type": "markdown",
   "id": "bfbc868f-f705-422e-b1bf-21140e11038f",
   "metadata": {},
   "source": [
    "### Splitting the data"
   ]
  },
  {
   "cell_type": "code",
   "execution_count": 26,
   "id": "9cbdaa7a-2742-4f93-abc0-3386e7fabfbf",
   "metadata": {},
   "outputs": [
    {
     "name": "stdout",
     "output_type": "stream",
     "text": [
      "Done\n"
     ]
    }
   ],
   "source": [
    "# df = pd.read_csv('reviews.csv')\n",
    "from sklearn.model_selection import train_test_split\n",
    "\n",
    "X = np.asarray(df['review'])\n",
    "y = np.asarray(df['rating'])\n",
    "X_train, X_test, y_train, y_test = train_test_split(X, y, test_size = 0.3, shuffle = True)\n",
    "\n",
    "# Vocabulary should only contain X_train part.\n",
    "building_corpus(X_train)"
   ]
  },
  {
   "cell_type": "code",
   "execution_count": 27,
   "id": "f6135f1c-7ed6-4064-a293-f206f6380b7c",
   "metadata": {},
   "outputs": [
    {
     "data": {
      "text/plain": [
       "(39200, 16800)"
      ]
     },
     "execution_count": 27,
     "metadata": {},
     "output_type": "execute_result"
    }
   ],
   "source": [
    "len(X_train), len(X_test)"
   ]
  },
  {
   "cell_type": "code",
   "execution_count": 28,
   "id": "25d468bd-7d21-4121-ba0f-7dfec27e81e2",
   "metadata": {},
   "outputs": [
    {
     "data": {
      "text/plain": [
       "6626"
      ]
     },
     "execution_count": 28,
     "metadata": {},
     "output_type": "execute_result"
    }
   ],
   "source": [
    "len(vocab['t_2_i'])"
   ]
  },
  {
   "cell_type": "code",
   "execution_count": 31,
   "id": "85f52109-39c9-486a-85f1-9f0b0bc2ddcb",
   "metadata": {},
   "outputs": [],
   "source": [
    "N = len(vocab['t_2_i'])\n",
    "X_train_fM = corpus_to_feature_matrix_faster(X_train, N)\n",
    "X_test_fM = corpus_to_feature_matrix_faster(X_test, N)"
   ]
  },
  {
   "cell_type": "code",
   "execution_count": 32,
   "id": "dff514ab-9196-4162-846a-9e0c2e2585d2",
   "metadata": {},
   "outputs": [
    {
     "data": {
      "text/plain": [
       "((39200, 6626), (16800, 6626))"
      ]
     },
     "execution_count": 32,
     "metadata": {},
     "output_type": "execute_result"
    }
   ],
   "source": [
    "X_train_fM.shape, X_test_fM.shape"
   ]
  },
  {
   "cell_type": "code",
   "execution_count": null,
   "id": "a0304066-d367-473d-a57d-110527593052",
   "metadata": {
    "jupyter": {
     "source_hidden": true
    },
    "tags": []
   },
   "outputs": [],
   "source": [
    "classifiers = {\n",
    "    \"Logistic Regression\": lr(),\n",
    "    \"Gaussian Naive Bayes\": gnb(),\n",
    "    \"Random Forest Classifier\": rfc(),\n",
    "    \"Support Vector Classifier\": svc()}\n",
    "\n",
    "\n",
    "for key, classifier in classifiers.items():\n",
    "    classifier.fit(X_train_fM, y_train)\n",
    "    training_score = cross_val_score(classifier, X_train_fM, y_train, cv = 5)\n",
    "    print(\"Classifier: \", classifier.__class__.__name__, \"Has a training score of\", round(training_score.mean(), 2) * 100, \"% accuracy score\")"
   ]
  },
  {
   "cell_type": "code",
   "execution_count": null,
   "id": "b8b41a5a-c1b5-456f-b207-9bb97c36026c",
   "metadata": {},
   "outputs": [
    {
     "name": "stdout",
     "output_type": "stream",
     "text": [
      "LogisticRegression()\n"
     ]
    },
    {
     "data": {
      "image/png": "[encoded data removed]",
      "text/plain": [
       "<Figure size 432x288 with 1 Axes>"
      ]
     },
     "metadata": {
      "needs_background": "light"
     },
     "output_type": "display_data"
    },
    {
     "name": "stdout",
     "output_type": "stream",
     "text": [
      "GaussianNB()\n"
     ]
    },
    {
     "data": {
      "image/png": "[encoded data removed]",
      "text/plain": [
       "<Figure size 432x288 with 1 Axes>"
      ]
     },
     "metadata": {
      "needs_background": "light"
     },
     "output_type": "display_data"
    },
    {
     "name": "stdout",
     "output_type": "stream",
     "text": [
      "RandomForestClassifier()\n"
     ]
    },
    {
     "data": {
      "image/png": "[encoded data removed]",
      "text/plain": [
       "<Figure size 432x288 with 1 Axes>"
      ]
     },
     "metadata": {
      "needs_background": "light"
     },
     "output_type": "display_data"
    },
    {
     "name": "stdout",
     "output_type": "stream",
     "text": [
      "SVC()\n"
     ]
    }
   ],
   "source": [
    "classifiers = {\n",
    "    \"Logistic Regression\": lr(),\n",
    "    \"Gaussian Naive Bayes\": gnb(),\n",
    "    \"Random Forest Classifier\": rfc(),\n",
    "    \"Support Vector Classifier\": svc()}\n",
    "\n",
    "for key, classifier in classifiers.items():\n",
    "    print(classifier)\n",
    "    model = classifier.fit(X_train_fM, y_train)\n",
    "    y_pred = classifier.predict(X_test_fM)\n",
    "    mat = confusion_matrix(y_test, y_pred)\n",
    "    sns.heatmap(mat.T, square = True, annot = True, fmt = 'd', cbar = False,\n",
    "                xticklabels = np.unique(y), yticklabels=np.unique(y))\n",
    "    plt.title(f\"Classfier: {classifier.__class__.__name__}\")\n",
    "    plt.xlabel(\"True Label\")\n",
    "    plt.ylabel(\"Predicted Label\")\n",
    "    plt.show()"
   ]
  },
  {
   "cell_type": "code",
   "execution_count": null,
   "id": "cc2e58c0-149b-4f17-a4f9-a48ae0f98e9e",
   "metadata": {},
   "outputs": [],
   "source": []
  }
 ],
 "metadata": {
  "kernelspec": {
   "display_name": "Python 3 (ipykernel)",
   "language": "python",
   "name": "python3"
  },
  "language_info": {
   "codemirror_mode": {
    "name": "ipython",
    "version": 3
   },
   "file_extension": ".py",
   "mimetype": "text/x-python",
   "name": "python",
   "nbconvert_exporter": "python",
   "pygments_lexer": "ipython3",
   "version": "3.9.12"
  }
 },
 "nbformat": 4,
 "nbformat_minor": 5
}
